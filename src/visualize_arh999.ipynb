{
 "cells": [
  {
   "cell_type": "code",
   "execution_count": 57,
   "id": "104ea8ff",
   "metadata": {},
   "outputs": [],
   "source": [
    "import matplotlib.pyplot as plt\n",
    "import pandas as pd\n",
    "import matplotlib.dates as mdates # 用于更好地处理日期轴\n",
    "from datetime import timedelta"
   ]
  },
  {
   "cell_type": "code",
   "execution_count": 58,
   "id": "c3b2aca9",
   "metadata": {},
   "outputs": [],
   "source": [
    "# 确保中文字符能够正常显示\n",
    "plt.rcParams['font.sans-serif'] = ['WenQuanYi Zen Hei'] # 使用你通过 fc-list 找到的字体名称\n",
    "plt.rcParams['axes.unicode_minus'] = False # 解决负号显示问题"
   ]
  },
  {
   "cell_type": "code",
   "execution_count": 59,
   "id": "063a6abd",
   "metadata": {},
   "outputs": [],
   "source": [
    "def generate_arh999_report_chart(data, output_path=\"arh999_report_chart.png\"):\n",
    "    \"\"\"\n",
    "    绘制包含ARH999指数、BTC全球指数、定投区间及当前值的报告图表。\n",
    "    :param data: 包含ARH999指数及相关数据的列表\n",
    "    :param output_path: 图片保存路径和文件名\n",
    "    \"\"\"\n",
    "    \n",
    "    # 1. 数据准备\n",
    "    df = pd.DataFrame(data)\n",
    "    df['date'] = pd.to_datetime(df['date'])\n",
    "    df = df.sort_values(by='date').reset_index(drop=True)\n",
    "\n",
    "    end_date = df['date'].max()\n",
    "    start_date = end_date - timedelta(days=365) # 近一年，可以调整天数\n",
    "    plot_df = df[(df['date'] >= start_date) & (df['date'] <= end_date)]\n",
    "\n",
    "    # 获取近一年数据\n",
    "    dates = plot_df['date']\n",
    "    arh999_values = plot_df['arh999']\n",
    "    btc_global_index_values = plot_df['btc_global_index']\n",
    "    \n",
    "    # 获取最新数据用于文本显示\n",
    "    latest_arh999 = arh999_values.iloc[-1]\n",
    "    # 2. 创建图表和主副坐标轴\n",
    "    fig, ax1 = plt.subplots(figsize=(14, 7)) # 创建图表和主Y轴\n",
    "    \n",
    "    # 主Y轴：ARH999 指数\n",
    "    ax1.set_xlabel('日期', fontsize=12)\n",
    "    ax1.set_ylabel('ARH999 指数', color='red', fontsize=12)\n",
    "    ax1.plot(dates, arh999_values, linestyle=':', color='red', label='ARH999 指数')\n",
    "    ax1.tick_params(axis='y', labelcolor='red')\n",
    "    ax1.grid(True, linestyle='--', alpha=0.7) \n",
    "    ax1.set_ylim(0, 2.5) # 假设ARH999的正常波动范围在0到30之间，你可以根据实际数据调整\n",
    "    # 3. 添加定投区间水平线和填充\n",
    "    lower_bound = 0.45\n",
    "    upper_bound = 1.2\n",
    "    ax1.axhline(lower_bound, color='green', linestyle='--', linewidth=1.5, label=f'定投下限 ({lower_bound})')\n",
    "    ax1.axhline(upper_bound, color='red', linestyle='--', linewidth=1.5, label=f'定投上限 ({upper_bound})')\n",
    "    ax1.axhspan(lower_bound, upper_bound, color='palegreen', alpha=0.3, label='理论定投区间') # 填充区间\n",
    "    # 4. 创建副坐标轴：BTC 全球指数\n",
    "    ax2 = ax1.twinx() # 创建共享X轴的副Y轴\n",
    "    ax2.set_ylabel('BTC 全球指数', color='blue', fontsize=12)\n",
    "    ax2.plot(dates, btc_global_index_values, linestyle='-', color='blue', label='BTC 全球指数')\n",
    "    ax2.tick_params(axis='y', labelcolor='blue')\n",
    "    # 5. 设置X轴日期格式\n",
    "    # 自动选择合适的日期刻度间隔\n",
    "    ax1.xaxis.set_major_formatter(mdates.DateFormatter('%Y-%m-%d'))\n",
    "    plt.xticks(rotation=45) # 日期标签旋转45度\n",
    "    if not dates.empty: # 避免数据为空时报错\n",
    "        ax1.set_xlim(dates.iloc[0], dates.iloc[-1]) # 将X轴范围设置为数据的最小日期和最大日期\n",
    "    # 6. 添加图表标题和图例\n",
    "    plt.title('ARH999 指数与 BTC 全球指数趋势', fontsize=18)\n",
    "    \n",
    "    # 合并两个轴的图例\n",
    "    lines, labels = ax1.get_legend_handles_labels()\n",
    "    lines2, labels2 = ax2.get_legend_handles_labels()\n",
    "    ax2.legend(lines + lines2, labels + labels2, loc='upper left', bbox_to_anchor=(1.07, 1)) # 将图例放在图表外部右上方\n",
    "    # 7. 添加自定义文本（当前指标和定投区间）\n",
    "    # 调整文本位置，可以根据图表大小和实际效果调整xy坐标\n",
    "    fig.text(1.05, 0.18, f'当前ARH999指标: {latest_arh999:.4f}', \n",
    "             transform=ax2.transAxes, fontsize=12, verticalalignment='top', \n",
    "             bbox=dict(boxstyle='round,pad=0.5', fc='white', ec='gray', lw=0.5))\n",
    "    fig.text(1.05, 0.08, '理论定投区间: 0.45-1.2', \n",
    "             transform=ax2.transAxes, fontsize=12, verticalalignment='top', \n",
    "             bbox=dict(boxstyle='round,pad=0.5', fc='white', ec='gray', lw=0.5))\n",
    "    plt.tight_layout(rect=[0, 0, 0.9, 1]) # 自动调整布局，为图例和文本留出空间\n",
    "    \n",
    "    # 8. 保存图表\n",
    "    plt.savefig(output_path, dpi=300, bbox_inches='tight') # dpi提高分辨率，bbox_inches='tight'确保所有元素都被保存\n",
    "    plt.close(fig) # 关闭图表，释放内存\n",
    "    print(f\"ARH999 报告图表已保存到: {output_path}\")"
   ]
  },
  {
   "cell_type": "code",
   "execution_count": 60,
   "id": "6c0e61a4",
   "metadata": {},
   "outputs": [
    {
     "name": "stdout",
     "output_type": "stream",
     "text": [
      "已获取所有 ARH999 历史数据，开始生成图表...\n",
      "ARH999 报告图表已保存到: arh999_report_chart.png\n",
      "图表生成完成。\n"
     ]
    }
   ],
   "source": [
    "# 集成到 main 模块 (如果你选择这样做的话)\n",
    "if __name__ == \"__main__\":\n",
    "    from fetch_arh999 import fetch_arh999_data # 导入我们第一步的函数\n",
    "    \n",
    "    arh999_full_data = fetch_arh999_data()\n",
    "    if arh999_full_data:\n",
    "        print(\"已获取所有 ARH999 历史数据，开始生成图表...\")\n",
    "        # 调用新的图表生成函数\n",
    "        generate_arh999_report_chart(arh999_full_data, output_path=\"arh999_report_chart.png\")\n",
    "        print(\"图表生成完成。\")\n",
    "    else:\n",
    "        print(\"未能获取 ARH999 数据，跳过图表生成。\")"
   ]
  }
 ],
 "metadata": {
  "kernelspec": {
   "display_name": "send-arh999-report (3.10.12)",
   "language": "python",
   "name": "python3"
  },
  "language_info": {
   "codemirror_mode": {
    "name": "ipython",
    "version": 3
   },
   "file_extension": ".py",
   "mimetype": "text/x-python",
   "name": "python",
   "nbconvert_exporter": "python",
   "pygments_lexer": "ipython3",
   "version": "3.10.12"
  }
 },
 "nbformat": 4,
 "nbformat_minor": 5
}
